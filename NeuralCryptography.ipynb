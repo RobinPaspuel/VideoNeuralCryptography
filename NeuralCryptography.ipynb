{
  "nbformat": 4,
  "nbformat_minor": 0,
  "metadata": {
    "colab": {
      "name": "NeuralCryptography.ipynb",
      "provenance": [],
      "collapsed_sections": [],
      "authorship_tag": "ABX9TyOWScfbYfHpSSAb/8iIWA1D",
      "include_colab_link": true
    },
    "kernelspec": {
      "name": "python3",
      "display_name": "Python 3"
    },
    "accelerator": "GPU"
  },
  "cells": [
    {
      "cell_type": "markdown",
      "metadata": {
        "id": "view-in-github",
        "colab_type": "text"
      },
      "source": [
        "<a href=\"https://colab.research.google.com/github/RobinPaspuel/VideoNeuralCryptography/blob/master/NeuralCryptography.ipynb\" target=\"_parent\"><img src=\"https://colab.research.google.com/assets/colab-badge.svg\" alt=\"Open In Colab\"/></a>"
      ]
    },
    {
      "cell_type": "markdown",
      "metadata": {
        "id": "EzSL5F6_rMBJ",
        "colab_type": "text"
      },
      "source": [
        "#■ Neural Crytography\n",
        "## ConvNet used for encoding messages into videos.\n"
      ]
    },
    {
      "cell_type": "code",
      "metadata": {
        "id": "GpjECgJceyyv",
        "colab_type": "code",
        "colab": {}
      },
      "source": [
        "!git clone https://github.com/RobinPaspuel/VideoNeuralCryptography"
      ],
      "execution_count": 0,
      "outputs": []
    },
    {
      "cell_type": "code",
      "metadata": {
        "id": "fGtS8ndLfSsw",
        "colab_type": "code",
        "colab": {}
      },
      "source": [
        "cd /content/VideoNeuralCryptography"
      ],
      "execution_count": 0,
      "outputs": []
    },
    {
      "cell_type": "code",
      "metadata": {
        "id": "_23yhRm4fZfj",
        "colab_type": "code",
        "colab": {}
      },
      "source": [
        "!mkdir \"Frames\"\n",
        "!mkdir \"EncodedFrames\"\n",
        "!mkdir 'ToDecode'"
      ],
      "execution_count": 0,
      "outputs": []
    },
    {
      "cell_type": "markdown",
      "metadata": {
        "id": "N15jv0MKr23o",
        "colab_type": "text"
      },
      "source": [
        "**<font color='#FF000'> IMPORTANT </font>**\n",
        "\n",
        "The text lenght can goes from 0 to 450 and the words in it must be separated with any symbol, in the example the symbol is (.). The video must be uploaded to the content directory. In case of needing a larger text lenght the process of training must be done again with the new specifications, the train script is included in the repository."
      ]
    },
    {
      "cell_type": "code",
      "metadata": {
        "id": "te7_s6NLhXoD",
        "colab_type": "code",
        "colab": {}
      },
      "source": [
        "Text_to_Encode = \"Cryptography is a method of protecting information and communications through the use of codes, so that only those for whom the information is intended can read and process it.\"\n",
        "Text_to_Encode = Text_to_Encode.split(' ')\n",
        "Text_to_Encode = '.'.join(Text_to_Encode)\n",
        "Text_to_Encode\n"
      ],
      "execution_count": 0,
      "outputs": []
    },
    {
      "cell_type": "code",
      "metadata": {
        "id": "L2cJN8BMfqpZ",
        "colab_type": "code",
        "colab": {}
      },
      "source": [
        "with open('/content/VideoNeuralCryptography/Enconder.py') as f:            \n",
        "    lines = f.read().splitlines()\n",
        "with open('/content/VideoNeuralCryptography/Enconder.py', 'w') as g:\n",
        "    #line = f.splitlines()\n",
        "    for line in lines:\n",
        "      if line.startswith('text_to_encode'):\n",
        "        g.write(line.replace('\"Este.es.el.texto.para.ocultar.en.el.video\"','\"' + str(Text_to_Encode) +'\"'+ '\\n'))\n",
        "      else:\n",
        "        g.write(line + '\\n')"
      ],
      "execution_count": 0,
      "outputs": []
    },
    {
      "cell_type": "markdown",
      "metadata": {
        "id": "MQj3sIBGtJdo",
        "colab_type": "text"
      },
      "source": [
        "# ■ Encoding Process\n",
        "The resulting frames are saved in the EncodedFrames directory.\n",
        "The resulting video is saved in the content directory."
      ]
    },
    {
      "cell_type": "code",
      "metadata": {
        "id": "b5DMS61fl-yF",
        "colab_type": "code",
        "colab": {}
      },
      "source": [
        "!python /content/VideoNeuralCryptography/Enconder.py"
      ],
      "execution_count": 0,
      "outputs": []
    },
    {
      "cell_type": "markdown",
      "metadata": {
        "id": "38uCSH4ftfIQ",
        "colab_type": "text"
      },
      "source": [
        "# ■ Decoding Process\n",
        "The Result is saved inside the test.txt file.\n",
        "\n",
        "**<font color='#FF000'> NOTE </font>**\n",
        "\n",
        "Any text saved before in the test.txt file is overwritten."
      ]
    },
    {
      "cell_type": "code",
      "metadata": {
        "id": "P10h8p-Fn0pn",
        "colab_type": "code",
        "colab": {}
      },
      "source": [
        "!python /content/VideoNeuralCryptography/Decoder.py"
      ],
      "execution_count": 0,
      "outputs": []
    }
  ]
}